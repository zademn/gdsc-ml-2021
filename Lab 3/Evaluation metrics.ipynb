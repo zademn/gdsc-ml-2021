{
 "cells": [
  {
   "cell_type": "code",
   "execution_count": 1,
   "id": "109b3106-5755-46ba-b301-a3db43da6762",
   "metadata": {},
   "outputs": [],
   "source": [
    "# Numerical libs\n",
    "import numpy as np\n",
    "import pandas as pd\n",
    "\n",
    "# ML libs\n",
    "from  sklearn.datasets import load_breast_cancer, fetch_california_housing\n",
    "from sklearn.neural_network import MLPClassifier, MLPRegressor\n",
    "from sklearn.metrics import accuracy_score\n",
    "# Plotting libs\n",
    "import matplotlib.pyplot as plt\n",
    "import seaborn as sns\n",
    "# Utils\n",
    "import os\n",
    "from tqdm.notebook import tqdm"
   ]
  },
  {
   "cell_type": "markdown",
   "id": "62127543-d815-4be0-bd22-3e66b5745082",
   "metadata": {},
   "source": [
    "## Utils"
   ]
  },
  {
   "cell_type": "markdown",
   "id": "d9b75dd5-dc86-4f64-bc93-9f471545958d",
   "metadata": {},
   "source": [
    "## Load data"
   ]
  },
  {
   "cell_type": "code",
   "execution_count": 2,
   "id": "61f6aae0-5ce0-47ed-b34a-f7f969d8c990",
   "metadata": {},
   "outputs": [
    {
     "data": {
      "text/html": [
       "<div>\n",
       "<style scoped>\n",
       "    .dataframe tbody tr th:only-of-type {\n",
       "        vertical-align: middle;\n",
       "    }\n",
       "\n",
       "    .dataframe tbody tr th {\n",
       "        vertical-align: top;\n",
       "    }\n",
       "\n",
       "    .dataframe thead th {\n",
       "        text-align: right;\n",
       "    }\n",
       "</style>\n",
       "<table border=\"1\" class=\"dataframe\">\n",
       "  <thead>\n",
       "    <tr style=\"text-align: right;\">\n",
       "      <th></th>\n",
       "      <th>mean radius</th>\n",
       "      <th>mean texture</th>\n",
       "      <th>mean perimeter</th>\n",
       "      <th>mean area</th>\n",
       "      <th>mean smoothness</th>\n",
       "      <th>mean compactness</th>\n",
       "      <th>mean concavity</th>\n",
       "      <th>mean concave points</th>\n",
       "      <th>mean symmetry</th>\n",
       "      <th>mean fractal dimension</th>\n",
       "      <th>...</th>\n",
       "      <th>worst texture</th>\n",
       "      <th>worst perimeter</th>\n",
       "      <th>worst area</th>\n",
       "      <th>worst smoothness</th>\n",
       "      <th>worst compactness</th>\n",
       "      <th>worst concavity</th>\n",
       "      <th>worst concave points</th>\n",
       "      <th>worst symmetry</th>\n",
       "      <th>worst fractal dimension</th>\n",
       "      <th>target</th>\n",
       "    </tr>\n",
       "  </thead>\n",
       "  <tbody>\n",
       "    <tr>\n",
       "      <th>0</th>\n",
       "      <td>17.99</td>\n",
       "      <td>10.38</td>\n",
       "      <td>122.80</td>\n",
       "      <td>1001.0</td>\n",
       "      <td>0.11840</td>\n",
       "      <td>0.27760</td>\n",
       "      <td>0.3001</td>\n",
       "      <td>0.14710</td>\n",
       "      <td>0.2419</td>\n",
       "      <td>0.07871</td>\n",
       "      <td>...</td>\n",
       "      <td>17.33</td>\n",
       "      <td>184.60</td>\n",
       "      <td>2019.0</td>\n",
       "      <td>0.1622</td>\n",
       "      <td>0.6656</td>\n",
       "      <td>0.7119</td>\n",
       "      <td>0.2654</td>\n",
       "      <td>0.4601</td>\n",
       "      <td>0.11890</td>\n",
       "      <td>0</td>\n",
       "    </tr>\n",
       "    <tr>\n",
       "      <th>1</th>\n",
       "      <td>20.57</td>\n",
       "      <td>17.77</td>\n",
       "      <td>132.90</td>\n",
       "      <td>1326.0</td>\n",
       "      <td>0.08474</td>\n",
       "      <td>0.07864</td>\n",
       "      <td>0.0869</td>\n",
       "      <td>0.07017</td>\n",
       "      <td>0.1812</td>\n",
       "      <td>0.05667</td>\n",
       "      <td>...</td>\n",
       "      <td>23.41</td>\n",
       "      <td>158.80</td>\n",
       "      <td>1956.0</td>\n",
       "      <td>0.1238</td>\n",
       "      <td>0.1866</td>\n",
       "      <td>0.2416</td>\n",
       "      <td>0.1860</td>\n",
       "      <td>0.2750</td>\n",
       "      <td>0.08902</td>\n",
       "      <td>0</td>\n",
       "    </tr>\n",
       "    <tr>\n",
       "      <th>2</th>\n",
       "      <td>19.69</td>\n",
       "      <td>21.25</td>\n",
       "      <td>130.00</td>\n",
       "      <td>1203.0</td>\n",
       "      <td>0.10960</td>\n",
       "      <td>0.15990</td>\n",
       "      <td>0.1974</td>\n",
       "      <td>0.12790</td>\n",
       "      <td>0.2069</td>\n",
       "      <td>0.05999</td>\n",
       "      <td>...</td>\n",
       "      <td>25.53</td>\n",
       "      <td>152.50</td>\n",
       "      <td>1709.0</td>\n",
       "      <td>0.1444</td>\n",
       "      <td>0.4245</td>\n",
       "      <td>0.4504</td>\n",
       "      <td>0.2430</td>\n",
       "      <td>0.3613</td>\n",
       "      <td>0.08758</td>\n",
       "      <td>0</td>\n",
       "    </tr>\n",
       "    <tr>\n",
       "      <th>3</th>\n",
       "      <td>11.42</td>\n",
       "      <td>20.38</td>\n",
       "      <td>77.58</td>\n",
       "      <td>386.1</td>\n",
       "      <td>0.14250</td>\n",
       "      <td>0.28390</td>\n",
       "      <td>0.2414</td>\n",
       "      <td>0.10520</td>\n",
       "      <td>0.2597</td>\n",
       "      <td>0.09744</td>\n",
       "      <td>...</td>\n",
       "      <td>26.50</td>\n",
       "      <td>98.87</td>\n",
       "      <td>567.7</td>\n",
       "      <td>0.2098</td>\n",
       "      <td>0.8663</td>\n",
       "      <td>0.6869</td>\n",
       "      <td>0.2575</td>\n",
       "      <td>0.6638</td>\n",
       "      <td>0.17300</td>\n",
       "      <td>0</td>\n",
       "    </tr>\n",
       "    <tr>\n",
       "      <th>4</th>\n",
       "      <td>20.29</td>\n",
       "      <td>14.34</td>\n",
       "      <td>135.10</td>\n",
       "      <td>1297.0</td>\n",
       "      <td>0.10030</td>\n",
       "      <td>0.13280</td>\n",
       "      <td>0.1980</td>\n",
       "      <td>0.10430</td>\n",
       "      <td>0.1809</td>\n",
       "      <td>0.05883</td>\n",
       "      <td>...</td>\n",
       "      <td>16.67</td>\n",
       "      <td>152.20</td>\n",
       "      <td>1575.0</td>\n",
       "      <td>0.1374</td>\n",
       "      <td>0.2050</td>\n",
       "      <td>0.4000</td>\n",
       "      <td>0.1625</td>\n",
       "      <td>0.2364</td>\n",
       "      <td>0.07678</td>\n",
       "      <td>0</td>\n",
       "    </tr>\n",
       "  </tbody>\n",
       "</table>\n",
       "<p>5 rows × 31 columns</p>\n",
       "</div>"
      ],
      "text/plain": [
       "   mean radius  mean texture  mean perimeter  mean area  mean smoothness  \\\n",
       "0        17.99         10.38          122.80     1001.0          0.11840   \n",
       "1        20.57         17.77          132.90     1326.0          0.08474   \n",
       "2        19.69         21.25          130.00     1203.0          0.10960   \n",
       "3        11.42         20.38           77.58      386.1          0.14250   \n",
       "4        20.29         14.34          135.10     1297.0          0.10030   \n",
       "\n",
       "   mean compactness  mean concavity  mean concave points  mean symmetry  \\\n",
       "0           0.27760          0.3001              0.14710         0.2419   \n",
       "1           0.07864          0.0869              0.07017         0.1812   \n",
       "2           0.15990          0.1974              0.12790         0.2069   \n",
       "3           0.28390          0.2414              0.10520         0.2597   \n",
       "4           0.13280          0.1980              0.10430         0.1809   \n",
       "\n",
       "   mean fractal dimension  ...  worst texture  worst perimeter  worst area  \\\n",
       "0                 0.07871  ...          17.33           184.60      2019.0   \n",
       "1                 0.05667  ...          23.41           158.80      1956.0   \n",
       "2                 0.05999  ...          25.53           152.50      1709.0   \n",
       "3                 0.09744  ...          26.50            98.87       567.7   \n",
       "4                 0.05883  ...          16.67           152.20      1575.0   \n",
       "\n",
       "   worst smoothness  worst compactness  worst concavity  worst concave points  \\\n",
       "0            0.1622             0.6656           0.7119                0.2654   \n",
       "1            0.1238             0.1866           0.2416                0.1860   \n",
       "2            0.1444             0.4245           0.4504                0.2430   \n",
       "3            0.2098             0.8663           0.6869                0.2575   \n",
       "4            0.1374             0.2050           0.4000                0.1625   \n",
       "\n",
       "   worst symmetry  worst fractal dimension  target  \n",
       "0          0.4601                  0.11890       0  \n",
       "1          0.2750                  0.08902       0  \n",
       "2          0.3613                  0.08758       0  \n",
       "3          0.6638                  0.17300       0  \n",
       "4          0.2364                  0.07678       0  \n",
       "\n",
       "[5 rows x 31 columns]"
      ]
     },
     "execution_count": 2,
     "metadata": {},
     "output_type": "execute_result"
    }
   ],
   "source": [
    "data = load_breast_cancer(as_frame=True)\n",
    "X, y = data['data'], data['target']\n",
    "df = pd.concat([X, y], axis = 1)\n",
    "df.head()"
   ]
  },
  {
   "cell_type": "markdown",
   "id": "93b7aef6-d500-4cdc-8387-95cd13e52a7f",
   "metadata": {},
   "source": [
    "# Classification"
   ]
  },
  {
   "cell_type": "markdown",
   "id": "534c454c-0b0a-458c-9d0b-20d66e842b2e",
   "metadata": {},
   "source": [
    "## Accuracy"
   ]
  },
  {
   "cell_type": "code",
   "execution_count": 3,
   "id": "8aab0ef3-ea48-4b2e-9873-60db4eb79b3e",
   "metadata": {
    "ExecuteTime": {
     "end_time": "2021-03-13T09:05:15.238998Z",
     "start_time": "2021-03-13T09:05:15.224999Z"
    }
   },
   "outputs": [],
   "source": [
    "from sklearn.tree import DecisionTreeClassifier\n",
    "from sklearn.model_selection import train_test_split\n",
    "from sklearn.metrics import accuracy_score"
   ]
  },
  {
   "cell_type": "code",
   "execution_count": 7,
   "id": "530b41f0-a4bc-4201-ab21-be4b2ca3a239",
   "metadata": {},
   "outputs": [],
   "source": [
    "\n",
    "X_train, X_test, y_train, y_test = train_test_split(X,y, test_size=.2, random_state=42)"
   ]
  },
  {
   "cell_type": "code",
   "execution_count": 8,
   "id": "56a90947-8d41-409d-98d8-13e363226f31",
   "metadata": {
    "ExecuteTime": {
     "end_time": "2021-03-13T09:06:19.041389Z",
     "start_time": "2021-03-13T09:06:19.018377Z"
    }
   },
   "outputs": [
    {
     "data": {
      "text/plain": [
       "DecisionTreeClassifier(random_state=420)"
      ]
     },
     "execution_count": 8,
     "metadata": {},
     "output_type": "execute_result"
    }
   ],
   "source": [
    "# https://scikit-learn.org/stable/modules/generated/sklearn.tree.DecisionTreeClassifier.html\n",
    "\n",
    "model = DecisionTreeClassifier(random_state=420) # Play with the parameters to get higher accuracy\n",
    "model.fit(X_train, y_train)"
   ]
  },
  {
   "cell_type": "code",
   "execution_count": 9,
   "id": "2289d250-2203-4e39-b82d-d1557533044f",
   "metadata": {
    "ExecuteTime": {
     "end_time": "2021-03-13T09:08:27.826809Z",
     "start_time": "2021-03-13T09:08:27.817814Z"
    }
   },
   "outputs": [],
   "source": [
    "def accuracy(y_real, y_pred):\n",
    "    return np.sum(y_pred == y_real) / len(y_real)"
   ]
  },
  {
   "cell_type": "code",
   "execution_count": 10,
   "id": "967fe4c5-08ca-4b1e-81ee-9a1389dadfb0",
   "metadata": {
    "ExecuteTime": {
     "end_time": "2021-03-13T09:08:28.221907Z",
     "start_time": "2021-03-13T09:08:28.185909Z"
    }
   },
   "outputs": [
    {
     "name": "stdout",
     "output_type": "stream",
     "text": [
      "Accuracy on train: 1.0\n",
      "Accuracy on test: 0.9385964912280702\n"
     ]
    }
   ],
   "source": [
    "y_pred = model.predict(X_train)\n",
    "print(f\"Accuracy on train: {accuracy(y_train, y_pred)}\")\n",
    "\n",
    "y_pred = model.predict(X_test)\n",
    "print(f\"Accuracy on test: {accuracy(y_test, y_pred)}\")"
   ]
  },
  {
   "cell_type": "code",
   "execution_count": 11,
   "id": "49ae9a78-0021-433f-a5e5-74a06deb19eb",
   "metadata": {
    "ExecuteTime": {
     "end_time": "2021-03-13T09:06:19.279894Z",
     "start_time": "2021-03-13T09:06:19.264894Z"
    }
   },
   "outputs": [],
   "source": [
    "# Predict classes\n",
    "y_pred = model.predict(X_train)"
   ]
  },
  {
   "cell_type": "code",
   "execution_count": 15,
   "id": "a80340e3-7c30-481b-9719-cbd98b941fa8",
   "metadata": {
    "ExecuteTime": {
     "end_time": "2021-03-13T09:06:19.454905Z",
     "start_time": "2021-03-13T09:06:19.432913Z"
    }
   },
   "outputs": [
    {
     "data": {
      "text/plain": [
       "1.0"
      ]
     },
     "execution_count": 15,
     "metadata": {},
     "output_type": "execute_result"
    }
   ],
   "source": [
    "accuracy_score(model.predict(X_train), y_train)"
   ]
  },
  {
   "cell_type": "code",
   "execution_count": 16,
   "id": "0beff963-c398-4fb1-8c2e-4c69a2757939",
   "metadata": {},
   "outputs": [
    {
     "data": {
      "text/plain": [
       "0.9385964912280702"
      ]
     },
     "execution_count": 16,
     "metadata": {},
     "output_type": "execute_result"
    }
   ],
   "source": [
    "# using sklearn\n",
    "accuracy_score(model.predict(X_test), y_test)"
   ]
  },
  {
   "cell_type": "markdown",
   "id": "14539c12-3292-4da1-9f4c-73d73e418a95",
   "metadata": {},
   "source": [
    "## Confusion matrix"
   ]
  },
  {
   "cell_type": "markdown",
   "id": "c571fed7-0f20-46e2-a70a-80c9a039e171",
   "metadata": {},
   "source": [
    "https://en.wikipedia.org/wiki/Confusion_matrix - wikipedia actually provides a good description\n",
    "\n",
    "*Insert story with the wolf and the shepherd*\n"
   ]
  },
  {
   "attachments": {
    "22c3538e-57f9-4ce5-8452-d394f9ec6b58.png": {
     "image/png": "[encoded data removed]"
    },
    "image.png": {
     "image/png": "[encoded data removed]"
    }
   },
   "cell_type": "markdown",
   "id": "ef15e923-b579-4367-8fef-003744b6e738",
   "metadata": {},
   "source": [
    "Assume the data is binary. Therefore we can split it into **positive** $(P)$ cases and **negative** $(N)$ cases\n",
    "There are 4 cases we need to take into consideration:\n",
    "\n",
    "**True positive**\n",
    "- Model predicted **positive**, real data is **positive** $\\to$ model is right\n",
    "\n",
    "**True Negative**\n",
    "- Model predicted **negative**, real data is **negative** $\\to$ model is right\n",
    "\n",
    "**False positive**\n",
    "- Model predicted **positive**, real data is **negative** $\\to$ model is wrong (false alarm)\n",
    "\n",
    "**False Negative**\n",
    "- Model predicted **negative**, real data is **positive** $\\to$ model is wrong\n",
    "\n",
    "![image.png](attachment:22c3538e-57f9-4ce5-8452-d394f9ec6b58.png)"
   ]
  },
  {
   "cell_type": "code",
   "execution_count": 17,
   "id": "a356f213-7834-448e-8ff0-897a7a4de38d",
   "metadata": {
    "ExecuteTime": {
     "end_time": "2021-03-13T09:14:40.080725Z",
     "start_time": "2021-03-13T09:14:40.064709Z"
    }
   },
   "outputs": [],
   "source": [
    "# https://scikit-learn.org/stable/modules/generated/sklearn.metrics.confusion_matrix.html#sklearn.metrics.confusion_matrix\n",
    "\n",
    "from sklearn.metrics import confusion_matrix, ConfusionMatrixDisplay"
   ]
  },
  {
   "cell_type": "code",
   "execution_count": 18,
   "id": "712dd8a8-bdd8-45ad-8999-8118d5bd6549",
   "metadata": {
    "ExecuteTime": {
     "end_time": "2021-03-13T09:14:47.511909Z",
     "start_time": "2021-03-13T09:14:47.496911Z"
    }
   },
   "outputs": [],
   "source": [
    "model = DecisionTreeClassifier(random_state=420) # Play with the parameters to get higher accuracy\n",
    "model.fit(X_train, y_train)\n",
    "y_pred = model.predict(X_test)\n"
   ]
  },
  {
   "cell_type": "code",
   "execution_count": 19,
   "id": "e55a7996-4407-4744-9768-865681d990bf",
   "metadata": {
    "ExecuteTime": {
     "end_time": "2021-03-13T09:16:53.393735Z",
     "start_time": "2021-03-13T09:16:53.368736Z"
    }
   },
   "outputs": [],
   "source": [
    "def my_confusion_matrix(y_true, y_pred, class_names = None):\n",
    "    if class_names is None:\n",
    "        positive, negative = np.unique(y_true) #list of classes\n",
    "    else:\n",
    "        positive, negative = class_names\n",
    "        \n",
    "    p = np.sum(y_true == positive)\n",
    "    n = np.sum(y_true == negative)\n",
    "    \n",
    "    tp = np.sum((y_true == y_pred) & (y_pred == positive)) # model is right, real data is positive\n",
    "    tn = np.sum((y_true == y_pred) & (y_pred == negative)) # model is right, real data is negative\n",
    "    fp = np.sum((y_true != y_pred) & (y_pred == positive)) # model is wrong, real data is negative (false alarm)\n",
    "    fn = np.sum((y_true != y_pred) & (y_pred == negative)) # model is wrong, real data is positive\n",
    "    \n",
    "    return np.array([[tp, fn], [fp, tn]])\n",
    "    "
   ]
  },
  {
   "cell_type": "code",
   "execution_count": 20,
   "id": "bf43c5cb-8073-431c-bc77-b41e91701f6f",
   "metadata": {
    "ExecuteTime": {
     "end_time": "2021-03-13T09:16:53.693825Z",
     "start_time": "2021-03-13T09:16:53.663814Z"
    }
   },
   "outputs": [
    {
     "data": {
      "text/plain": [
       "array([[40,  3],\n",
       "       [ 4, 67]], dtype=int64)"
      ]
     },
     "execution_count": 20,
     "metadata": {},
     "output_type": "execute_result"
    }
   ],
   "source": [
    "my_confusion_matrix(y_test, y_pred)"
   ]
  },
  {
   "cell_type": "code",
   "execution_count": 21,
   "id": "27a324e2-8ee6-487e-8236-11a1dc0a8163",
   "metadata": {
    "ExecuteTime": {
     "end_time": "2021-03-13T09:16:59.500708Z",
     "start_time": "2021-03-13T09:16:59.464702Z"
    }
   },
   "outputs": [],
   "source": [
    "cm = confusion_matrix(y_test, y_pred)"
   ]
  },
  {
   "cell_type": "code",
   "execution_count": 22,
   "id": "674da462-efa7-4831-b6c8-ad544f8c9c12",
   "metadata": {
    "ExecuteTime": {
     "end_time": "2021-03-13T09:16:59.956626Z",
     "start_time": "2021-03-13T09:16:59.945610Z"
    }
   },
   "outputs": [
    {
     "data": {
      "text/plain": [
       "array([[40,  3],\n",
       "       [ 4, 67]], dtype=int64)"
      ]
     },
     "execution_count": 22,
     "metadata": {},
     "output_type": "execute_result"
    }
   ],
   "source": [
    "cm"
   ]
  },
  {
   "cell_type": "code",
   "execution_count": 23,
   "id": "adbdba82-0202-47de-9137-ae7dde485d0c",
   "metadata": {
    "ExecuteTime": {
     "end_time": "2021-03-13T09:17:15.430063Z",
     "start_time": "2021-03-13T09:17:15.147550Z"
    }
   },
   "outputs": [
    {
     "data": {
      "text/plain": [
       "<AxesSubplot:>"
      ]
     },
     "execution_count": 23,
     "metadata": {},
     "output_type": "execute_result"
    },
    {
     "data": {
      "image/png": "[encoded data removed]",
      "text/plain": [
       "<Figure size 432x288 with 2 Axes>"
      ]
     },
     "metadata": {
      "needs_background": "light"
     },
     "output_type": "display_data"
    }
   ],
   "source": [
    "sns.heatmap(cm / np.sum(cm), annot = True, cmap = 'Blues')"
   ]
  },
  {
   "cell_type": "code",
   "execution_count": 24,
   "id": "8828756b-89ff-4bc7-9ea1-1a9e5566abf9",
   "metadata": {},
   "outputs": [
    {
     "data": {
      "image/png": "[encoded data removed]",
      "text/plain": [
       "<Figure size 432x288 with 2 Axes>"
      ]
     },
     "metadata": {
      "needs_background": "light"
     },
     "output_type": "display_data"
    }
   ],
   "source": [
    "disp = ConfusionMatrixDisplay(cm)\n",
    "disp.plot()\n",
    "plt.show()\n",
    "\n"
   ]
  },
  {
   "cell_type": "markdown",
   "id": "e03f1711-ff0b-416f-adb7-56c03615bbe7",
   "metadata": {},
   "source": [
    "## ROC-AUC"
   ]
  },
  {
   "cell_type": "markdown",
   "id": "b334a884-93f8-4d32-b7bc-e9fc0ddf681c",
   "metadata": {},
   "source": [
    "[Wiki entry](https://en.wikipedia.org/wiki/Receiver_operating_characteristic)"
   ]
  },
  {
   "cell_type": "code",
   "execution_count": 25,
   "id": "620e93cf-9715-4811-80a3-e56a03cde6d8",
   "metadata": {},
   "outputs": [],
   "source": [
    "from sklearn.metrics import RocCurveDisplay, roc_auc_score, roc_curve"
   ]
  },
  {
   "cell_type": "code",
   "execution_count": 26,
   "id": "85ef368e-2862-4221-bb2c-aabb482d554f",
   "metadata": {},
   "outputs": [
    {
     "data": {
      "image/png": "[encoded data removed]",
      "text/plain": [
       "<Figure size 432x288 with 1 Axes>"
      ]
     },
     "metadata": {
      "needs_background": "light"
     },
     "output_type": "display_data"
    }
   ],
   "source": [
    "RocCurveDisplay.from_estimator(model, X_test, y_test)\n",
    "plt.show()"
   ]
  },
  {
   "cell_type": "markdown",
   "id": "a9a3f165-7722-440c-a122-ebb1e3608e7c",
   "metadata": {},
   "source": [
    "# Regression evaluation"
   ]
  },
  {
   "cell_type": "markdown",
   "id": "bfe25622-cc21-4673-b63f-7216b2e6b5b1",
   "metadata": {},
   "source": [
    "When we evaluate a linear regression we want to look to minimize some error. *But what errors can we minimize?*\n",
    "\n",
    "Let\n",
    "- $N$ = number of datapoints\n",
    "- $y_i$ = real output\n",
    "- $h(x_i)$ = predicted output"
   ]
  },
  {
   "cell_type": "markdown",
   "id": "5adb2531-e109-4060-bf74-fcd07b193673",
   "metadata": {},
   "source": [
    "## MAE - Mean absolute error"
   ]
  },
  {
   "cell_type": "markdown",
   "id": "d83ac7b1-49e5-443f-936e-533330f8a913",
   "metadata": {},
   "source": [
    "Average the errors. $MAE \\in \\mathbb{R}$\n",
    "\n",
    "$$MAE = \\dfrac 1 N \\sum_{i=1}^N |y_i - h(x_i)|$$\n",
    "\n"
   ]
  },
  {
   "cell_type": "markdown",
   "id": "cb07cad6-458f-41e4-87bb-b392f6655334",
   "metadata": {},
   "source": [
    "## MSE"
   ]
  },
  {
   "cell_type": "markdown",
   "id": "8930c147-f679-45f5-94aa-1d1e2a85bff5",
   "metadata": {},
   "source": [
    "Square the errors then average them. $MSE \\in \\mathbb{R}$\n",
    "\n",
    "$$MSE = \\dfrac 1 N \\sum_{i=1}^N (y_i - h(x_i))^2$$"
   ]
  },
  {
   "cell_type": "markdown",
   "id": "825d33db-2152-4005-a393-4d0d14dde265",
   "metadata": {},
   "source": [
    "### MAE vs MSE"
   ]
  },
  {
   "cell_type": "markdown",
   "id": "d3effa94-35bb-4bc5-abf4-017f3474fda5",
   "metadata": {},
   "source": [
    "Since $MSE$ squares the errors it means big errors get bigger => outliers bring $MSE$ up => Sensible to outliers\n",
    "- $\\pm$ Optimizing by $MSE$ takes outliers more into consideration.\n",
    "- $+$ Easily differentiable\n",
    "\n",
    "$MAE$ is more robust when it comes to outliers. It is not suitable for applications where you want to pay more attention to the outliers"
   ]
  },
  {
   "cell_type": "markdown",
   "id": "47527cd2-6c8b-438c-878d-be6b6db05368",
   "metadata": {},
   "source": [
    "## $R^2$"
   ]
  },
  {
   "cell_type": "markdown",
   "id": "073eb584-782d-4eb8-99ba-1579008a0b23",
   "metadata": {},
   "source": [
    "We compare our model with a baseline model. $R^2 \\in [-\\infty, 1]$\n",
    "\n",
    "$$ R^2 = 1 - \\dfrac {MSE(model)} {MSE(baseline)}$$\n",
    "\n",
    "where\n",
    "- $MSE(model)  = \\dfrac 1 N \\sum_{i=1}^N (y_i - h(x_i))^2$\n",
    "- $MSE(baseline)  = \\dfrac 1 N \\sum_{i=1}^N (y_i - \\mu_y)^2$\n",
    "    - $\\mu_y$ = the mean of the real data $y$\n",
    "    \n",
    "**Remarks**\n",
    "- If our model does worse than the baseline $R^2 < 0$\n",
    "- If our model is the baseline $R^2 = 0$\n",
    "- If our model is perfect $R^2 = 1$"
   ]
  },
  {
   "cell_type": "code",
   "execution_count": 27,
   "id": "4ff00ff6-678f-4802-a08c-9f60c103823d",
   "metadata": {},
   "outputs": [],
   "source": [
    "from sklearn.linear_model import LinearRegression, ElasticNet\n",
    "from sklearn.metrics import mean_absolute_error, mean_squared_error, r2_score"
   ]
  },
  {
   "cell_type": "code",
   "execution_count": 28,
   "id": "52cdbb8e-0320-4316-9050-8b1a58b4890e",
   "metadata": {},
   "outputs": [],
   "source": [
    "def mae(y_real, y_pred):\n",
    "    return np.sum(np.abs(y_real - y_pred)) / len(y_real)\n",
    "\n",
    "def mse(y_real, y_pred):\n",
    "    # **2 is elementwise for np.array\n",
    "    return np.sum((y_real - y_pred) ** 2) / len(y_real)\n",
    "\n",
    "def r_square(y_real, y_pred):\n",
    "    mse_model = np.sum((y_real - y_pred) ** 2) / len(y_real)\n",
    "    mse_baseline = np.sum((y_real - y_real.mean()) ** 2) / len(y_real)\n",
    "    \n",
    "    return 1 - mse_model/mse_baseline\n",
    "    "
   ]
  },
  {
   "cell_type": "code",
   "execution_count": 29,
   "id": "1b786250-0da5-4b61-bb9f-fe8a484cb20e",
   "metadata": {},
   "outputs": [
    {
     "data": {
      "text/html": [
       "<div>\n",
       "<style scoped>\n",
       "    .dataframe tbody tr th:only-of-type {\n",
       "        vertical-align: middle;\n",
       "    }\n",
       "\n",
       "    .dataframe tbody tr th {\n",
       "        vertical-align: top;\n",
       "    }\n",
       "\n",
       "    .dataframe thead th {\n",
       "        text-align: right;\n",
       "    }\n",
       "</style>\n",
       "<table border=\"1\" class=\"dataframe\">\n",
       "  <thead>\n",
       "    <tr style=\"text-align: right;\">\n",
       "      <th></th>\n",
       "      <th>MedInc</th>\n",
       "      <th>HouseAge</th>\n",
       "      <th>AveRooms</th>\n",
       "      <th>AveBedrms</th>\n",
       "      <th>Population</th>\n",
       "      <th>AveOccup</th>\n",
       "      <th>Latitude</th>\n",
       "      <th>Longitude</th>\n",
       "      <th>MedHouseVal</th>\n",
       "    </tr>\n",
       "  </thead>\n",
       "  <tbody>\n",
       "    <tr>\n",
       "      <th>0</th>\n",
       "      <td>8.3252</td>\n",
       "      <td>41.0</td>\n",
       "      <td>6.984127</td>\n",
       "      <td>1.023810</td>\n",
       "      <td>322.0</td>\n",
       "      <td>2.555556</td>\n",
       "      <td>37.88</td>\n",
       "      <td>-122.23</td>\n",
       "      <td>4.526</td>\n",
       "    </tr>\n",
       "    <tr>\n",
       "      <th>1</th>\n",
       "      <td>8.3014</td>\n",
       "      <td>21.0</td>\n",
       "      <td>6.238137</td>\n",
       "      <td>0.971880</td>\n",
       "      <td>2401.0</td>\n",
       "      <td>2.109842</td>\n",
       "      <td>37.86</td>\n",
       "      <td>-122.22</td>\n",
       "      <td>3.585</td>\n",
       "    </tr>\n",
       "    <tr>\n",
       "      <th>2</th>\n",
       "      <td>7.2574</td>\n",
       "      <td>52.0</td>\n",
       "      <td>8.288136</td>\n",
       "      <td>1.073446</td>\n",
       "      <td>496.0</td>\n",
       "      <td>2.802260</td>\n",
       "      <td>37.85</td>\n",
       "      <td>-122.24</td>\n",
       "      <td>3.521</td>\n",
       "    </tr>\n",
       "    <tr>\n",
       "      <th>3</th>\n",
       "      <td>5.6431</td>\n",
       "      <td>52.0</td>\n",
       "      <td>5.817352</td>\n",
       "      <td>1.073059</td>\n",
       "      <td>558.0</td>\n",
       "      <td>2.547945</td>\n",
       "      <td>37.85</td>\n",
       "      <td>-122.25</td>\n",
       "      <td>3.413</td>\n",
       "    </tr>\n",
       "    <tr>\n",
       "      <th>4</th>\n",
       "      <td>3.8462</td>\n",
       "      <td>52.0</td>\n",
       "      <td>6.281853</td>\n",
       "      <td>1.081081</td>\n",
       "      <td>565.0</td>\n",
       "      <td>2.181467</td>\n",
       "      <td>37.85</td>\n",
       "      <td>-122.25</td>\n",
       "      <td>3.422</td>\n",
       "    </tr>\n",
       "  </tbody>\n",
       "</table>\n",
       "</div>"
      ],
      "text/plain": [
       "   MedInc  HouseAge  AveRooms  AveBedrms  Population  AveOccup  Latitude  \\\n",
       "0  8.3252      41.0  6.984127   1.023810       322.0  2.555556     37.88   \n",
       "1  8.3014      21.0  6.238137   0.971880      2401.0  2.109842     37.86   \n",
       "2  7.2574      52.0  8.288136   1.073446       496.0  2.802260     37.85   \n",
       "3  5.6431      52.0  5.817352   1.073059       558.0  2.547945     37.85   \n",
       "4  3.8462      52.0  6.281853   1.081081       565.0  2.181467     37.85   \n",
       "\n",
       "   Longitude  MedHouseVal  \n",
       "0    -122.23        4.526  \n",
       "1    -122.22        3.585  \n",
       "2    -122.24        3.521  \n",
       "3    -122.25        3.413  \n",
       "4    -122.25        3.422  "
      ]
     },
     "execution_count": 29,
     "metadata": {},
     "output_type": "execute_result"
    }
   ],
   "source": [
    "data = fetch_california_housing(data_home=os.path.join('..', 'data'), as_frame=True)\n",
    "X, y = data['data'], data['target']\n",
    "df = pd.concat([X, y], axis = 1)\n",
    "df.head()"
   ]
  },
  {
   "cell_type": "code",
   "execution_count": 30,
   "id": "1f0ecc76-9312-48be-950e-a4684f3954e2",
   "metadata": {
    "ExecuteTime": {
     "end_time": "2021-04-13T15:59:45.861824Z",
     "start_time": "2021-04-13T15:59:45.853825Z"
    }
   },
   "outputs": [
    {
     "data": {
      "text/plain": [
       "((16512, 8), (4128, 8))"
      ]
     },
     "execution_count": 30,
     "metadata": {},
     "output_type": "execute_result"
    }
   ],
   "source": [
    "X = df.drop(columns = ['MedHouseVal'])\n",
    "y = df['MedHouseVal']\n",
    "X_train, X_test, y_train, y_test = train_test_split(X, y, test_size=.2, shuffle=True, random_state=42)\n",
    "X_train.shape, X_test.shape"
   ]
  },
  {
   "cell_type": "code",
   "execution_count": 31,
   "id": "f90d0b85-ca2b-45a8-9455-6c6d8b32f7e5",
   "metadata": {
    "ExecuteTime": {
     "end_time": "2021-04-13T16:01:51.532915Z",
     "start_time": "2021-04-13T16:01:51.516915Z"
    }
   },
   "outputs": [
    {
     "name": "stdout",
     "output_type": "stream",
     "text": [
      "Training scores (MAE, MSE, R^2): : (0.5286283596581925, 0.5179331255246699, 0.6125511913966951)\n",
      "Test scores (MAE, MSE, R^2): (0.5332001304956557, 0.5558915986952441, 0.575787706032451)\n"
     ]
    }
   ],
   "source": [
    "reg = LinearRegression()\n",
    "reg.fit(X_train, y_train)\n",
    "\n",
    "y_pred = reg.predict(X_train)\n",
    "print(f\"Training scores (MAE, MSE, R^2): : {mae(y_train, y_pred), mse(y_train, y_pred), r_square(y_train, y_pred)}\")\n",
    "\n",
    "y_pred = reg.predict(X_test)\n",
    "print(f\"Test scores (MAE, MSE, R^2): {mae(y_test, y_pred), mse(y_test, y_pred), r_square(y_test, y_pred)}\")"
   ]
  }
 ],
 "metadata": {
  "kernelspec": {
   "display_name": "Python 3 (ipykernel)",
   "language": "python",
   "name": "python3"
  },
  "language_info": {
   "codemirror_mode": {
    "name": "ipython",
    "version": 3
   },
   "file_extension": ".py",
   "mimetype": "text/x-python",
   "name": "python",
   "nbconvert_exporter": "python",
   "pygments_lexer": "ipython3",
   "version": "3.9.6"
  }
 },
 "nbformat": 4,
 "nbformat_minor": 5
}
